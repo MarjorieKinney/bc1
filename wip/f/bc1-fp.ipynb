{
 "cells": [
  {
   "cell_type": "markdown",
   "id": "32c24bc3-a839-444e-9027-653da0dbd505",
   "metadata": {},
   "source": [
    "# Wonderful Wines of the World"
   ]
  },
  {
   "cell_type": "markdown",
   "id": "b6915dde-a26f-4c37-b395-80be2564042a",
   "metadata": {
    "tags": []
   },
   "source": [
    "## Initial Setup"
   ]
  },
  {
   "cell_type": "code",
   "execution_count": 34,
   "id": "bfcbdad6-dc27-426e-9221-d43fc65068b7",
   "metadata": {},
   "outputs": [],
   "source": [
    "## import libraries\n",
    "\n",
    "import pandas as pd\n",
    "import numpy as np\n",
    "import scipy as sp\n",
    "import seaborn as sns\n",
    "\n",
    "import os\n",
    "from math import ceil\n",
    "\n"
   ]
  },
  {
   "cell_type": "code",
   "execution_count": 2,
   "id": "3c954654-b967-4e33-ac9c-4885d5cbc088",
   "metadata": {},
   "outputs": [],
   "source": [
    "%matplotlib inline\n",
    "import matplotlib.pyplot as plt\n",
    "from matplotlib import gridspec\n",
    "from matplotlib.colors import LinearSegmentedColormap\n",
    "import matplotlib.cm as cm\n"
   ]
  },
  {
   "cell_type": "code",
   "execution_count": 3,
   "id": "10ce7933-038d-4b50-aba0-792c73c2cd9e",
   "metadata": {},
   "outputs": [],
   "source": [
    "from sklearn.base import clone\n",
    "\n",
    "from sklearn.impute import KNNImputer\n",
    "from sklearn.decomposition import PCA, FactorAnalysis\n",
    "\n",
    "from sklearn.preprocessing import MinMaxScaler, StandardScaler, OneHotEncoder, PowerTransformer\n",
    "from sklearn.preprocessing import OrdinalEncoder\n",
    "\n",
    "from sklearn.cluster import KMeans\n",
    "from sklearn.cluster import AgglomerativeClustering\n",
    "from sklearn.cluster import MeanShift, DBSCAN, estimate_bandwidth\n",
    "\n",
    "\n",
    "from sklearn.neighbors import NearestNeighbors\n",
    "from sklearn.mixture import GaussianMixture\n",
    "from sklearn.manifold import TSNE\n",
    "\n",
    "from sklearn.metrics import silhouette_score, silhouette_samples\n",
    "\n",
    "from sklearn import tree\n",
    "from sklearn.tree import DecisionTreeClassifier, export_graphviz\n",
    "from sklearn.model_selection import train_test_split\n",
    "\n",
    "from scipy.cluster.hierarchy import linkage, fcluster, dendrogram\n",
    "\n",
    "import graphviz\n"
   ]
  },
  {
   "cell_type": "code",
   "execution_count": 4,
   "id": "c725a51f-d617-4d65-afe1-b69b6a9b69f5",
   "metadata": {},
   "outputs": [],
   "source": [
    "import warnings\n",
    "warnings.filterwarnings('ignore')\n",
    "\n",
    "# https://stackoverflow.com/questions/56618739/matplotlib-throws-warning-message-because-of-findfont-python\n",
    "import logging\n",
    "logging.getLogger('matplotlib.font_manager').disabled = True\n",
    "\n",
    "# importing sompy enables more logging\n",
    "logging.disable(logging.INFO)"
   ]
  },
  {
   "cell_type": "code",
   "execution_count": 5,
   "id": "aea82149-c20c-4cc0-8e1c-581a2fea9af2",
   "metadata": {},
   "outputs": [
    {
     "name": "stdout",
     "output_type": "stream",
     "text": [
      "Pandas version  1.3.3\n",
      "Numpy version  1.20.3\n",
      "Scipy version  1.7.0\n",
      "Seaborn version  0.11.2\n"
     ]
    }
   ],
   "source": [
    "## Note versions used\n",
    "\n",
    "print('Pandas version ',pd.__version__)\n",
    "print('Numpy version ',np.__version__)\n",
    "print('Scipy version ',sp.__version__)\n",
    "print('Seaborn version ',sns.__version__)\n"
   ]
  },
  {
   "cell_type": "markdown",
   "id": "cf1891cf-235d-495e-ac78-18fbf6621e70",
   "metadata": {
    "tags": []
   },
   "source": [
    "## Define some constant variables"
   ]
  },
  {
   "cell_type": "code",
   "execution_count": 6,
   "id": "4c55fc56-4bc4-41c4-9cfd-1c520be4218f",
   "metadata": {},
   "outputs": [],
   "source": [
    "COLORS=['#d1d646', '#a7ca58', '#78bd6c', '#44af82', '#009c9f', '#4d8b8f', '#516c85', '#544b7b', '#59236f']\n",
    "\n",
    "CONTRAST_COLORS = [COLORS[i] for i in range(len(COLORS)) if (i%2) == 0]\n",
    "\n",
    "DIV_COLORS = ['#9faf1f', '#aac55d', '#b5da99', '#d7ebcb', '#fafafa', '#dbc5d5', '#cb9ebf', '#bb77a8', '#ae4c8c']\n",
    "\n",
    "DEFAULT_PALETTE = sns.color_palette(COLORS)\n",
    "CONTRAST_PALETTE = sns.color_palette(CONTRAST_COLORS)\n",
    "DIVERGENT_PALETTE = sns.color_palette(DIV_COLORS)\n",
    "\n",
    "sns.set_palette(DEFAULT_PALETTE)\n",
    "DIV_CMAP = LinearSegmentedColormap.from_list(\"div_colors\", DIV_COLORS)\n"
   ]
  },
  {
   "cell_type": "code",
   "execution_count": 7,
   "id": "afa1d2fe-e784-4405-bb74-85f1fc9328a9",
   "metadata": {},
   "outputs": [
    {
     "data": {
      "image/png": "[encoded data removed]",
      "text/plain": [
       "<Figure size 648x72 with 1 Axes>"
      ]
     },
     "metadata": {
      "needs_background": "light"
     },
     "output_type": "display_data"
    },
    {
     "data": {
      "image/png": "[encoded data removed]",
      "text/plain": [
       "<Figure size 360x72 with 1 Axes>"
      ]
     },
     "metadata": {
      "needs_background": "light"
     },
     "output_type": "display_data"
    },
    {
     "data": {
      "image/png": "[encoded data removed]",
      "text/plain": [
       "<Figure size 648x72 with 1 Axes>"
      ]
     },
     "metadata": {
      "needs_background": "light"
     },
     "output_type": "display_data"
    }
   ],
   "source": [
    "sns.palplot(DEFAULT_PALETTE)\n",
    "sns.palplot(CONTRAST_PALETTE)\n",
    "sns.palplot(DIVERGENT_PALETTE)\n",
    "plt.show()"
   ]
  },
  {
   "cell_type": "code",
   "execution_count": 8,
   "id": "bbe82f00-29cc-4632-b593-9fd8d1669788",
   "metadata": {},
   "outputs": [],
   "source": [
    "sns.set_context(\"paper\")\n",
    "sns.set(style=\"white\")\n",
    "\n",
    "plt.rcParams['figure.dpi'] = 70"
   ]
  },
  {
   "cell_type": "markdown",
   "id": "38285f45-8efd-421f-b5c7-bbd04305c05c",
   "metadata": {
    "tags": []
   },
   "source": [
    "## Define some functions"
   ]
  },
  {
   "cell_type": "code",
   "execution_count": 36,
   "id": "8607c692-f0e9-4acb-9511-d378bc82f2c2",
   "metadata": {},
   "outputs": [],
   "source": [
    "## Function to plot histograms of numeric features for specified dataframe\n",
    "def plotHistograms(df, features, rows=4, title = \"Numeric Variables' Histograms\"):\n",
    "    fig, axes = plt.subplots(rows, ceil(len(features) / rows), \\\n",
    "                             figsize=(11, 3*rows), \\\n",
    "                             constrained_layout=True)\n",
    "        \n",
    "    for ax, feat in zip(axes.flatten(), features):\n",
    "        ax.hist(df[feat], color=COLORS[0])\n",
    "        ax.set_title(feat, y=1)\n",
    "    \n",
    "    if (len(axes.flatten())) > len(features):\n",
    "        for f in range(len(axes.flatten())-len(features)):\n",
    "            axes.flatten()[(f+1)*-1].axis('off')\n",
    "    plt.suptitle(title)\n",
    "    save_fig(title, fig)\n",
    "\n",
    "    plt.show()"
   ]
  },
  {
   "cell_type": "code",
   "execution_count": 41,
   "id": "dfff769d-92f4-4126-98b4-7922c3e9056a",
   "metadata": {},
   "outputs": [],
   "source": [
    "## Function to plot histograms of numeric features for specified dataframe\n",
    "def plot_histograms_boxplots(df, features, rows=4, title = \"Histograms of Numeric Variables\"):\n",
    "    if True:\n",
    "        fig = plt.figure(figsize=(2*rows, 2.8*rows), \\\n",
    "                         constrained_layout=True)\n",
    "        \n",
    "        subfigs = fig.subfigures(rows, ceil(len(features) / rows))\n",
    "    \n",
    "        for subf, feat in zip(subfigs.flatten(), features):\n",
    "            axs = subf.subplots(2, 1, sharex=True, \\\n",
    "                                gridspec_kw={'height_ratios': [4,1]})\n",
    "        \n",
    "            #df.pivot(columns='Buy')[feat].plot(kind = 'hist', stacked=True, ax=axs[0], color=COLORS[0:2])\n",
    "            axs[0].hist(df[feat], color=COLORS[0])\n",
    "            axs[0].set_ylabel(None)\n",
    "            axs[0].set_title(feat, y=1, fontsize=3*rows)\n",
    "        \n",
    "            #sns.boxplot(x=df.loc[df['Buy']==0,feat], ax=axs[1], color=COLORS[0], fliersize=2)\n",
    "            axs[1].set_xlabel(None)\n",
    "            sns.boxplot(x=df[feat], ax=axs[1], color=COLORS[0])\n",
    "            axs[1].set_xlabel(None)\n",
    "\n",
    "            subf.suptitle(None)\n",
    "        \n",
    "        plt.suptitle(title, fontsize=4*rows)\n",
    "        #if save_plots:\n",
    "        #    img_counter = save_fig(title, fig)\n",
    "        \n",
    "        plt.show()\n",
    "    else:\n",
    "        print(\"show_plots is currently set to False\")"
   ]
  },
  {
   "cell_type": "code",
   "execution_count": 38,
   "id": "638e5b89-f77f-4687-b432-108428431fb5",
   "metadata": {},
   "outputs": [],
   "source": [
    "# Function that plots boxplot and histogram next to each other\n",
    "def showBoxHist(df, col, logBool=False):\n",
    "    if True:\n",
    "        fig, (ax_hist, ax_box) = plt.subplots(2,\n",
    "                                    gridspec_kw={\"height_ratios\": (.85, .15)},\n",
    "                                    figsize=(9,4)\n",
    "                                         )\n",
    "        title='Variable Distribution: ' + col\n",
    "        sns.boxplot(x=df[col], ax=ax_box, color=COLORS[0])\n",
    "        ax_box.set(yticks=[], xlabel=None)\n",
    "        ax_box.axis('off')\n",
    "\n",
    "        ax_hist.hist(df[col], color=COLORS[0])\n",
    "        #sns.histplot(x=df[col], ax=ax_hist, color=COLORS[0])\n",
    "        ax_hist.set(title=title, xlabel=None)\n",
    "    \n",
    "        sns.despine(ax=ax_box, left=True)    \n",
    "        sns.despine(ax=ax_hist)\n",
    "\n",
    "        plt.show()\n",
    "    else:\n",
    "        print(\"show_plots is currently set to False\")"
   ]
  },
  {
   "cell_type": "code",
   "execution_count": 27,
   "id": "3ab2b811-29e2-4fc5-8e27-a45344802ff0",
   "metadata": {},
   "outputs": [],
   "source": [
    "def getIQR(df, colname) :\n",
    "    q25 = df[colname].quantile(.25)\n",
    "    q75 = df[colname].quantile(.75)\n",
    "    iqr = (q75 - q25)\n",
    "\n",
    "    upper_lim = q75 + 2 * iqr\n",
    "    lower_lim = q25 - 2 * iqr\n",
    "\n",
    "    above_ul = df.loc[df[colname]>upper_lim]\n",
    "    below_ll = df.loc[df[colname]<lower_lim]\n",
    "    \n",
    "    if len(above_ul) > 0 :\n",
    "        print(str(len(above_ul)) + \" or \" + str(round((100*len(above_ul)/len(df)),4)) + \"% of rows are above the UL.\")\n",
    "    if len(below_ll) > 0 :\n",
    "        print(str(len(below_ll)) + \" or \" + str(round((100*len(below_ll)/len(df)),4)) + \"% of rows are below the LL.\")\n",
    "\n",
    "    \n",
    "    return upper_lim, lower_lim, len(above_ul), len(below_ll)\n",
    "\n",
    "\n"
   ]
  },
  {
   "cell_type": "markdown",
   "id": "ec7fb6af-4b87-41d5-97b9-ed7cd9497bb2",
   "metadata": {},
   "source": [
    "## Load Dataset"
   ]
  },
  {
   "cell_type": "code",
   "execution_count": 87,
   "id": "eea5966e-8739-48ae-99de-39e639985f2d",
   "metadata": {},
   "outputs": [
    {
     "data": {
      "text/html": [
       "<div>\n",
       "<style scoped>\n",
       "    .dataframe tbody tr th:only-of-type {\n",
       "        vertical-align: middle;\n",
       "    }\n",
       "\n",
       "    .dataframe tbody tr th {\n",
       "        vertical-align: top;\n",
       "    }\n",
       "\n",
       "    .dataframe thead th {\n",
       "        text-align: right;\n",
       "    }\n",
       "</style>\n",
       "<table border=\"1\" class=\"dataframe\">\n",
       "  <thead>\n",
       "    <tr style=\"text-align: right;\">\n",
       "      <th></th>\n",
       "      <th>Custid</th>\n",
       "      <th>Dayswus</th>\n",
       "      <th>Age</th>\n",
       "      <th>Edu</th>\n",
       "      <th>Income</th>\n",
       "      <th>Freq</th>\n",
       "      <th>Recency</th>\n",
       "      <th>Monetary</th>\n",
       "      <th>LTV</th>\n",
       "      <th>Perdeal</th>\n",
       "      <th>Dryred</th>\n",
       "      <th>Sweetred</th>\n",
       "      <th>Drywh</th>\n",
       "      <th>Sweetwh</th>\n",
       "      <th>Dessert</th>\n",
       "      <th>Exotic</th>\n",
       "      <th>WebPurchase</th>\n",
       "      <th>WebVisit</th>\n",
       "    </tr>\n",
       "  </thead>\n",
       "  <tbody>\n",
       "    <tr>\n",
       "      <th>0</th>\n",
       "      <td>5325.0</td>\n",
       "      <td>653.0</td>\n",
       "      <td>55.0</td>\n",
       "      <td>20.0</td>\n",
       "      <td>78473.0</td>\n",
       "      <td>20.0</td>\n",
       "      <td>18.0</td>\n",
       "      <td>826.0</td>\n",
       "      <td>445.0</td>\n",
       "      <td>7.0</td>\n",
       "      <td>67.0</td>\n",
       "      <td>4.0</td>\n",
       "      <td>26.0</td>\n",
       "      <td>2.0</td>\n",
       "      <td>1.0</td>\n",
       "      <td>1.0</td>\n",
       "      <td>36.0</td>\n",
       "      <td>5.0</td>\n",
       "    </tr>\n",
       "    <tr>\n",
       "      <th>1</th>\n",
       "      <td>3956.0</td>\n",
       "      <td>1041.0</td>\n",
       "      <td>75.0</td>\n",
       "      <td>18.0</td>\n",
       "      <td>105087.0</td>\n",
       "      <td>36.0</td>\n",
       "      <td>33.0</td>\n",
       "      <td>1852.0</td>\n",
       "      <td>539.0</td>\n",
       "      <td>2.0</td>\n",
       "      <td>49.0</td>\n",
       "      <td>0.0</td>\n",
       "      <td>46.0</td>\n",
       "      <td>1.0</td>\n",
       "      <td>3.0</td>\n",
       "      <td>0.0</td>\n",
       "      <td>20.0</td>\n",
       "      <td>4.0</td>\n",
       "    </tr>\n",
       "    <tr>\n",
       "      <th>2</th>\n",
       "      <td>3681.0</td>\n",
       "      <td>666.0</td>\n",
       "      <td>18.0</td>\n",
       "      <td>12.0</td>\n",
       "      <td>27984.0</td>\n",
       "      <td>4.0</td>\n",
       "      <td>56.0</td>\n",
       "      <td>39.0</td>\n",
       "      <td>-7.0</td>\n",
       "      <td>88.0</td>\n",
       "      <td>4.0</td>\n",
       "      <td>29.0</td>\n",
       "      <td>14.0</td>\n",
       "      <td>32.0</td>\n",
       "      <td>21.0</td>\n",
       "      <td>48.0</td>\n",
       "      <td>60.0</td>\n",
       "      <td>8.0</td>\n",
       "    </tr>\n",
       "  </tbody>\n",
       "</table>\n",
       "</div>"
      ],
      "text/plain": [
       "   Custid  Dayswus   Age   Edu    Income  Freq  Recency  Monetary    LTV  \\\n",
       "0  5325.0    653.0  55.0  20.0   78473.0  20.0     18.0     826.0  445.0   \n",
       "1  3956.0   1041.0  75.0  18.0  105087.0  36.0     33.0    1852.0  539.0   \n",
       "2  3681.0    666.0  18.0  12.0   27984.0   4.0     56.0      39.0   -7.0   \n",
       "\n",
       "   Perdeal  Dryred  Sweetred  Drywh  Sweetwh  Dessert  Exotic  WebPurchase  \\\n",
       "0      7.0    67.0       4.0   26.0      2.0      1.0     1.0         36.0   \n",
       "1      2.0    49.0       0.0   46.0      1.0      3.0     0.0         20.0   \n",
       "2     88.0     4.0      29.0   14.0     32.0     21.0    48.0         60.0   \n",
       "\n",
       "   WebVisit  \n",
       "0       5.0  \n",
       "1       4.0  \n",
       "2       8.0  "
      ]
     },
     "execution_count": 87,
     "metadata": {},
     "output_type": "execute_result"
    }
   ],
   "source": [
    "df = pd.read_excel('../data/WonderfulWinesoftheWorld.xlsx')\n",
    "df_original = df.copy(deep=True)\n",
    "\n",
    "#df.set_index('Custid', inplace=True)\n",
    "## Ignore custid because issues\n",
    "## Hunt down empty custid\n",
    "\n",
    "df.head(3)"
   ]
  },
  {
   "cell_type": "code",
   "execution_count": 90,
   "id": "33bc83c6-d7b7-4983-bbbe-5c5c4d80fdcd",
   "metadata": {},
   "outputs": [
    {
     "data": {
      "text/plain": [
       "Custid         1\n",
       "Dayswus        0\n",
       "Age            0\n",
       "Edu            0\n",
       "Income         0\n",
       "Freq           0\n",
       "Recency        0\n",
       "Monetary       0\n",
       "LTV            0\n",
       "Perdeal        0\n",
       "Dryred         0\n",
       "Sweetred       0\n",
       "Drywh          0\n",
       "Sweetwh        0\n",
       "Dessert        0\n",
       "Exotic         0\n",
       "WebPurchase    0\n",
       "WebVisit       0\n",
       "dtype: int64"
      ]
     },
     "execution_count": 90,
     "metadata": {},
     "output_type": "execute_result"
    }
   ],
   "source": [
    "df.isna().sum()\n",
    "#df[df['Custid']==np.nan]"
   ]
  },
  {
   "cell_type": "code",
   "execution_count": 83,
   "id": "5de499c6-cf30-4e13-a2b6-56089fdc8000",
   "metadata": {},
   "outputs": [],
   "source": [
    "wine_features = ['Dryred', 'Sweetred', 'Drywh', 'Sweetwh', 'Dessert', 'Exotic']\n",
    "#value_ = []\n",
    "\n",
    "## Remove Perdeal because highly correlated with multiple feats\n",
    "\n",
    "\n",
    "## Remove Monetary because highly correlated with Freq, LTV\n",
    "value_features = ['Dayswus', 'Recency', 'Freq', 'LTV']\n",
    "\n",
    "\n",
    "## Remove Frequency and LTV because highly correlated with Monetary\n",
    "value_features2 = ['Dayswus', 'Recency', 'Monetary']\n",
    "\n",
    "\n",
    "## Separate Demographic features for cluster descriptions later\n",
    "demog_features = ['Age', 'Edu', 'Income']\n",
    "\n",
    "\n",
    "## Try rfm\n",
    "## 25 meh\n",
    "## 36 too much"
   ]
  },
  {
   "cell_type": "code",
   "execution_count": 45,
   "id": "b064bf96-27de-4f01-a02e-c1c47d21ebfa",
   "metadata": {},
   "outputs": [
    {
     "name": "stdout",
     "output_type": "stream",
     "text": [
      "Empty DataFrame\n",
      "Columns: [Custid, Dayswus, Age, Edu, Income, Freq, Recency, Monetary, LTV, Perdeal, Dryred, Sweetred, Drywh, Sweetwh, Dessert, Exotic, WebPurchase, WebVisit]\n",
      "Index: []\n"
     ]
    }
   ],
   "source": [
    "## Check for duplicates\n",
    "\n",
    "print(df[df.duplicated(keep=False)])"
   ]
  },
  {
   "cell_type": "code",
   "execution_count": 28,
   "id": "7b17a52c-84a2-4338-a272-e66170dad87f",
   "metadata": {},
   "outputs": [
    {
     "name": "stdout",
     "output_type": "stream",
     "text": [
      "363 or 3.6296% of rows are above the UL.\n",
      "117 or 1.1699% of rows are above the UL.\n",
      "358 or 3.5796% of rows are above the UL.\n",
      "2 or 0.02% of rows are above the UL.\n",
      "365 or 3.6496% of rows are above the UL.\n",
      "474 or 4.7395% of rows are above the UL.\n",
      "331 or 3.3097% of rows are above the UL.\n"
     ]
    }
   ],
   "source": [
    "for v in df.columns.tolist():\n",
    "    getIQR(df, v)"
   ]
  },
  {
   "cell_type": "code",
   "execution_count": 47,
   "id": "29db34f9-6242-4e17-8633-bc6fd158fe66",
   "metadata": {},
   "outputs": [
    {
     "data": {
      "image/png": "[encoded data removed]",
      "text/plain": [
       "<Figure size 560x784 with 18 Axes>"
      ]
     },
     "metadata": {},
     "output_type": "display_data"
    }
   ],
   "source": [
    "#def plot_histograms_boxplots(df, features, rows=4, title = \"Histograms of Numeric Variables\"):\n",
    "\n",
    "plot_histograms_boxplots(df, value_features)\n",
    "\n",
    "## Remove the two outliers from Dessert\n",
    "## Remove the one outliers from Sweetred\n",
    "## No Outliers removed for value features\n",
    "\n",
    "## Use DBSCAN compare how many it removes\n",
    "## Consider other outlier detection methods\n",
    "\n"
   ]
  },
  {
   "cell_type": "code",
   "execution_count": 91,
   "id": "c5968e31-6108-4eb9-a33a-f03d0e7a09f3",
   "metadata": {},
   "outputs": [
    {
     "data": {
      "image/png": "[encoded data removed]",
      "text/plain": [
       "<Figure size 560x784 with 12 Axes>"
      ]
     },
     "metadata": {},
     "output_type": "display_data"
    }
   ],
   "source": [
    "plot_histograms_boxplots(df, wine_features)\n"
   ]
  },
  {
   "cell_type": "code",
   "execution_count": 57,
   "id": "7a95bcd0-9ccf-4a51-a391-79e886fdf2f5",
   "metadata": {},
   "outputs": [],
   "source": [
    "def make_corr_heatmap(df, method, title=\"Triangle Correlation Heatmap\"):\n",
    "    fig = plt.figure(figsize=(21, 11))\n",
    "    mask = np.triu(np.ones_like(df.corr(method=method), dtype=bool))\n",
    "    heatmap = sns.heatmap(df.corr(method=method), mask=mask, vmin=-1, vmax=1, annot=True, fmt='.2f' )# ,cmap=DIV_CMAP)\n",
    "    heatmap.set_title(title, fontdict={'fontsize':18}, pad=6);\n",
    "    #save_fig(title, fig)\n",
    "    plt.show()"
   ]
  },
  {
   "cell_type": "code",
   "execution_count": 81,
   "id": "9f6e8da2-a007-42af-a22f-9bd13b32900a",
   "metadata": {},
   "outputs": [
    {
     "data": {
      "image/png": "[encoded data removed]",
      "text/plain": [
       "<Figure size 1470x770 with 2 Axes>"
      ]
     },
     "metadata": {},
     "output_type": "display_data"
    }
   ],
   "source": [
    "make_corr_heatmap(df[value_features], 'spearman', title=\"Spearman Correlation Heatmap\")"
   ]
  },
  {
   "cell_type": "code",
   "execution_count": null,
   "id": "98d9dd5a-f380-4a0b-ae14-19fdc8ae9b3f",
   "metadata": {},
   "outputs": [],
   "source": [
    "## Decide on Scaler + Normalizing \n",
    "## Ask \n",
    "## If we have time, do two batches \n",
    "\n"
   ]
  },
  {
   "cell_type": "code",
   "execution_count": null,
   "id": "68955e98-e833-4c82-83fa-c76f0dff8a49",
   "metadata": {},
   "outputs": [],
   "source": [
    "## Clustering\n",
    "## Test Normalize + DBSCAN"
   ]
  },
  {
   "cell_type": "code",
   "execution_count": null,
   "id": "cc31ea2b-4cdb-43c9-bcb0-6c13a063aadd",
   "metadata": {},
   "outputs": [],
   "source": [
    "## Kmeans\n",
    "## Hierarchical\n",
    "## "
   ]
  },
  {
   "cell_type": "code",
   "execution_count": null,
   "id": "7e3a7594-ab95-498e-aa6f-9dd9fcd05bac",
   "metadata": {},
   "outputs": [],
   "source": [
    "## TSNE, UMAP, dendrogram,bar plots\n",
    "## "
   ]
  }
 ],
 "metadata": {
  "kernelspec": {
   "display_name": "Python 3 (ipykernel)",
   "language": "python",
   "name": "python3"
  },
  "language_info": {
   "codemirror_mode": {
    "name": "ipython",
    "version": 3
   },
   "file_extension": ".py",
   "mimetype": "text/x-python",
   "name": "python",
   "nbconvert_exporter": "python",
   "pygments_lexer": "ipython3",
   "version": "3.9.7"
  }
 },
 "nbformat": 4,
 "nbformat_minor": 5
}
